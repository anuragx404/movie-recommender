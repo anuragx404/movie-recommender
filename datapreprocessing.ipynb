{
 "cells": [
  {
   "cell_type": "code",
   "execution_count": 2,
   "id": "0384a1a3-3b6e-45b9-af9a-5772a66f5eb0",
   "metadata": {},
   "outputs": [],
   "source": [
    "import pandas as pd\n",
    "import ast\n",
    "\n",
    "# Load data\n",
    "movies = pd.read_csv(r\"C:\\Users\\Global\\Documents\\MoviesData\\tmdb_5000_movies.csv\\tmdb_5000_movies.csv\")\n",
    "credits = pd.read_csv(r\"C:\\Users\\Global\\Documents\\MoviesData\\tmdb_5000_credits.csv\\tmdb_5000_credits.csv\")\n",
    "\n",
    "# Merge datasets on title\n",
    "movies = movies.merge(credits, on='title')\n",
    "movies = movies[['movie_id', 'title', 'overview', 'genres', 'keywords', 'cast', 'crew']]\n",
    "\n",
    "# Handle NaN in overview\n",
    "movies['overview'] = movies['overview'].fillna('')\n",
    "movies['overview'] = movies['overview'].apply(lambda x: x.split())\n",
    "\n",
    "# Parse JSON-like fields safely\n",
    "def extract_names(obj):\n",
    "    try:\n",
    "        return [i['name'] for i in ast.literal_eval(obj)]\n",
    "    except:\n",
    "        return []\n",
    "\n",
    "def get_director(obj):\n",
    "    try:\n",
    "        for i in ast.literal_eval(obj):\n",
    "            if i['job'] == 'Director':\n",
    "                return [i['name']]\n",
    "        return []\n",
    "    except:\n",
    "        return []\n",
    "\n",
    "def get_cast(obj):\n",
    "    try:\n",
    "        return [i['name'] for i in ast.literal_eval(obj)][:3]\n",
    "    except:\n",
    "        return []\n",
    "\n",
    "# Apply parsing\n",
    "movies['genres'] = movies['genres'].apply(extract_names)\n",
    "movies['keywords'] = movies['keywords'].apply(extract_names)\n",
    "movies['cast'] = movies['cast'].apply(get_cast)\n",
    "movies['director'] = movies['crew'].apply(get_director)\n",
    "\n",
    "# Combine all into one tag column\n",
    "movies['tags'] = movies['overview'] + movies['genres'] + movies['keywords'] + movies['cast'] + movies['director']\n",
    "movies['tags'] = movies['tags'].apply(lambda x: \" \".join(x).lower())\n",
    "\n",
    "# Final dataframe\n",
    "new_df = movies[['movie_id', 'title', 'tags']]\n"
   ]
  },
  {
   "cell_type": "code",
   "execution_count": 3,
   "id": "c8c58330-7956-4e56-8b11-dbd8be7f9d21",
   "metadata": {},
   "outputs": [],
   "source": [
    "from sklearn.feature_extraction.text import CountVectorizer\n",
    "\n",
    "# Limit the number of features (words) and remove English stop words\n",
    "cv = CountVectorizer(max_features=5000, stop_words='english')\n",
    "\n",
    "vectors = cv.fit_transform(new_df['tags']).toarray()\n"
   ]
  },
  {
   "cell_type": "code",
   "execution_count": 4,
   "id": "32bca485-abeb-4587-9851-ca996d9c1a8b",
   "metadata": {},
   "outputs": [],
   "source": [
    "from sklearn.metrics.pairwise import cosine_similarity\n",
    "\n",
    "similarity = cosine_similarity(vectors)\n"
   ]
  },
  {
   "cell_type": "code",
   "execution_count": 5,
   "id": "cb5ad16b-25cb-487d-97ff-3f15e7f76fb3",
   "metadata": {},
   "outputs": [],
   "source": [
    "def recommend(movie):\n",
    "    movie = movie.lower()\n",
    "    if movie not in new_df['title'].str.lower().values:\n",
    "        print(\"Movie not found in database.\")\n",
    "        return\n",
    "    \n",
    "    index = new_df[new_df['title'].str.lower() == movie].index[0]\n",
    "    distances = list(enumerate(similarity[index]))\n",
    "    movies_list = sorted(distances, key=lambda x: x[1], reverse=True)[1:6]  # skip itself\n",
    "\n",
    "    print(f\"Top 5 movies similar to '{new_df.iloc[index].title}':\\n\")\n",
    "    for i in movies_list:\n",
    "        print(new_df.iloc[i[0]].title)\n"
   ]
  },
  {
   "cell_type": "code",
   "execution_count": 6,
   "id": "e50f9aa6-3c27-4960-9791-d91c0537cd2d",
   "metadata": {},
   "outputs": [
    {
     "name": "stdout",
     "output_type": "stream",
     "text": [
      "Top 5 movies similar to 'Avatar':\n",
      "\n",
      "Aliens\n",
      "Moonraker\n",
      "Alien\n",
      "Alien³\n",
      "Silent Running\n"
     ]
    }
   ],
   "source": [
    "recommend(\"Avatar\")"
   ]
  },
  {
   "cell_type": "code",
   "execution_count": null,
   "id": "5ff3f3a2-0253-48e0-bc49-ac9c80cbce83",
   "metadata": {},
   "outputs": [],
   "source": [
    "from nltk.stem.porter import PorterStemmer\n",
    "ps = PorterStemmer()\n",
    "\n",
    "def stem(text):\n",
    "    return \" \".join([ps.stem(word) for word in text.split()])\n",
    "\n",
    "new_df.loc[:, 'tags'] = new_df['tags'].apply(stem)\n",
    "\n"
   ]
  },
  {
   "cell_type": "code",
   "execution_count": null,
   "id": "6aa95734-5f9c-405b-a56d-83fa06149fae",
   "metadata": {},
   "outputs": [],
   "source": [
    "import pickle\n",
    "\n",
    "pickle.dump(new_df, open('movies.pkl', 'wb'))\n",
    "pickle.dump(similarity, open('similarity.pkl', 'wb'))\n"
   ]
  },
  {
   "cell_type": "code",
   "execution_count": null,
   "id": "84aabd79-300d-4522-aa70-0fb25bbed271",
   "metadata": {},
   "outputs": [],
   "source": [
    "import nltk\n"
   ]
  },
  {
   "cell_type": "code",
   "execution_count": null,
   "id": "cb3dfbd9-79bb-418d-95bf-d92c2ff1ccdd",
   "metadata": {},
   "outputs": [],
   "source": [
    "def recommend(movie):\n",
    "    movie = movie.lower()\n",
    "    if movie not in new_df['title'].str.lower().values:\n",
    "        return []\n",
    "\n",
    "    index = new_df[new_df['title'].str.lower() == movie].index[0]\n",
    "    distances = cosine_similarity([vectors[index]], vectors).flatten()\n",
    "    movie_list = sorted(list(enumerate(distances)), key=lambda x: x[1], reverse=True)[1:6]\n",
    "\n",
    "    return [new_df.iloc[i[0]].title for i in movie_list]\n"
   ]
  },
  {
   "cell_type": "code",
   "execution_count": null,
   "id": "a395e606-1440-4123-a564-9c178044875e",
   "metadata": {},
   "outputs": [],
   "source": [
    "recommend('Inception')\n"
   ]
  },
  {
   "cell_type": "code",
   "execution_count": null,
   "id": "f6dc73df-2418-4a5f-ab8b-0d786abcee04",
   "metadata": {},
   "outputs": [],
   "source": [
    "import pickle\n",
    "\n",
    "# Assuming your processed dataframe is called new_df\n",
    "new_df.to_pickle('movies.pkl')\n",
    "\n",
    "# Assuming your similarity matrix (numpy array or whatever) is called similarity\n",
    "pickle.dump(similarity, open('similarity.pkl', 'wb'))\n"
   ]
  },
  {
   "cell_type": "code",
   "execution_count": null,
   "id": "f84b2456-f320-4512-b8bc-5ff0aba1b32b",
   "metadata": {},
   "outputs": [],
   "source": []
  }
 ],
 "metadata": {
  "kernelspec": {
   "display_name": "Python [conda env:base] *",
   "language": "python",
   "name": "conda-base-py"
  },
  "language_info": {
   "codemirror_mode": {
    "name": "ipython",
    "version": 3
   },
   "file_extension": ".py",
   "mimetype": "text/x-python",
   "name": "python",
   "nbconvert_exporter": "python",
   "pygments_lexer": "ipython3",
   "version": "3.12.7"
  }
 },
 "nbformat": 4,
 "nbformat_minor": 5
}
